{
 "cells": [
  {
   "cell_type": "markdown",
   "id": "3c30d732",
   "metadata": {},
   "source": [
    "<div class=\"alert alert-block alert-success\">\n",
    "    <h1 align=\"center\">Multiple Lienar regression</h1>\n",
    "    <h4 align=\"center\"><a href=\"https://mohammadamirifard.com/\">Mohammad Amirifard</a></h5>\n",
    "</div>"
   ]
  },
  {
   "cell_type": "markdown",
   "id": "0f7595b1",
   "metadata": {},
   "source": [
    "### Problem:\n",
    "You are an owner of a bike shop.You rent bicycles to customers. Now you want to predict the the number of requsets for bicycles by custonmers based on some information you have. So this is a kind of linear regression with multiple features.\n",
    "\n",
    "Let's get started with some inforrmation related to culomns exited in the dataset.\n",
    "\n",
    "##### datetime:\n",
    "hourly date + timestamp  \n",
    "##### season:\n",
    "1 = spring, 2 = summer, 3 = fall, 4 = winter \n",
    "##### holiday:\n",
    "whether the day is considered a holiday\n",
    "##### workingday:\n",
    "whether the day is neither a weekend nor holiday\n",
    "##### weather:\n",
    "(1 = Clear, Few clouds, Partly cloudy, Partly cloudy)(2 =  Mist + Cloudy, Mist + Broken clouds, Mist + Few clouds, Mist) (3 = Light Snow, Light Rain + Thunderstorm + Scattered clouds, Light Rain + Scattered clouds)\n",
    "(4 = Heavy Rain + Ice Pallets + Thunderstorm + Mist, Snow + Fog) \n",
    "##### temp:\n",
    "temperature in Celsius\n",
    "##### atemp:\n",
    "\"feels like\" temperature in Celsius\n",
    "##### humidity:\n",
    "relative humidity\n",
    "##### windspeed:\n",
    "wind speed\n",
    "##### casual:\n",
    "number of non-registered user rentals initiated\n",
    "##### registered:\n",
    "number of registered user rentals initiated\n",
    "##### count:\n",
    "number of total rentals\n"
   ]
  },
  {
   "cell_type": "markdown",
   "id": "0942fbf6",
   "metadata": {},
   "source": [
    "<div class=\"alert alert-block alert-success\">\n",
    "    <h1 align=\"center\">Let's get started</h1>\n",
    "    <h2 align=\"center\">Step1: Import libararies and load dataset</h2>\n",
    "</div> "
   ]
  },
  {
   "cell_type": "code",
   "execution_count": 1,
   "id": "4c8d3058",
   "metadata": {},
   "outputs": [],
   "source": [
    "import pandas as pd\n",
    "import numpy as np\n",
    "from matplotlib import pyplot as plt\n",
    "import seaborn as sns"
   ]
  },
  {
   "cell_type": "code",
   "execution_count": 2,
   "id": "eccec693",
   "metadata": {},
   "outputs": [
    {
     "data": {
      "text/html": [
       "<div>\n",
       "<style scoped>\n",
       "    .dataframe tbody tr th:only-of-type {\n",
       "        vertical-align: middle;\n",
       "    }\n",
       "\n",
       "    .dataframe tbody tr th {\n",
       "        vertical-align: top;\n",
       "    }\n",
       "\n",
       "    .dataframe thead th {\n",
       "        text-align: right;\n",
       "    }\n",
       "</style>\n",
       "<table border=\"1\" class=\"dataframe\">\n",
       "  <thead>\n",
       "    <tr style=\"text-align: right;\">\n",
       "      <th></th>\n",
       "      <th>datetime</th>\n",
       "      <th>season</th>\n",
       "      <th>holiday</th>\n",
       "      <th>workingday</th>\n",
       "      <th>weather</th>\n",
       "      <th>temp</th>\n",
       "      <th>atemp</th>\n",
       "      <th>humidity</th>\n",
       "      <th>windspeed</th>\n",
       "      <th>casual</th>\n",
       "      <th>registered</th>\n",
       "      <th>count</th>\n",
       "    </tr>\n",
       "  </thead>\n",
       "  <tbody>\n",
       "    <tr>\n",
       "      <th>0</th>\n",
       "      <td>2011-01-01 00:00:00</td>\n",
       "      <td>1</td>\n",
       "      <td>0</td>\n",
       "      <td>0</td>\n",
       "      <td>1</td>\n",
       "      <td>9.84</td>\n",
       "      <td>14.395</td>\n",
       "      <td>81</td>\n",
       "      <td>0.0</td>\n",
       "      <td>3</td>\n",
       "      <td>13</td>\n",
       "      <td>16</td>\n",
       "    </tr>\n",
       "    <tr>\n",
       "      <th>1</th>\n",
       "      <td>2011-01-01 01:00:00</td>\n",
       "      <td>1</td>\n",
       "      <td>0</td>\n",
       "      <td>0</td>\n",
       "      <td>1</td>\n",
       "      <td>9.02</td>\n",
       "      <td>13.635</td>\n",
       "      <td>80</td>\n",
       "      <td>0.0</td>\n",
       "      <td>8</td>\n",
       "      <td>32</td>\n",
       "      <td>40</td>\n",
       "    </tr>\n",
       "    <tr>\n",
       "      <th>2</th>\n",
       "      <td>2011-01-01 02:00:00</td>\n",
       "      <td>1</td>\n",
       "      <td>0</td>\n",
       "      <td>0</td>\n",
       "      <td>1</td>\n",
       "      <td>9.02</td>\n",
       "      <td>13.635</td>\n",
       "      <td>80</td>\n",
       "      <td>0.0</td>\n",
       "      <td>5</td>\n",
       "      <td>27</td>\n",
       "      <td>32</td>\n",
       "    </tr>\n",
       "    <tr>\n",
       "      <th>3</th>\n",
       "      <td>2011-01-01 03:00:00</td>\n",
       "      <td>1</td>\n",
       "      <td>0</td>\n",
       "      <td>0</td>\n",
       "      <td>1</td>\n",
       "      <td>9.84</td>\n",
       "      <td>14.395</td>\n",
       "      <td>75</td>\n",
       "      <td>0.0</td>\n",
       "      <td>3</td>\n",
       "      <td>10</td>\n",
       "      <td>13</td>\n",
       "    </tr>\n",
       "    <tr>\n",
       "      <th>4</th>\n",
       "      <td>2011-01-01 04:00:00</td>\n",
       "      <td>1</td>\n",
       "      <td>0</td>\n",
       "      <td>0</td>\n",
       "      <td>1</td>\n",
       "      <td>9.84</td>\n",
       "      <td>14.395</td>\n",
       "      <td>75</td>\n",
       "      <td>0.0</td>\n",
       "      <td>0</td>\n",
       "      <td>1</td>\n",
       "      <td>1</td>\n",
       "    </tr>\n",
       "  </tbody>\n",
       "</table>\n",
       "</div>"
      ],
      "text/plain": [
       "              datetime  season  holiday  workingday  weather  temp   atemp  \\\n",
       "0  2011-01-01 00:00:00       1        0           0        1  9.84  14.395   \n",
       "1  2011-01-01 01:00:00       1        0           0        1  9.02  13.635   \n",
       "2  2011-01-01 02:00:00       1        0           0        1  9.02  13.635   \n",
       "3  2011-01-01 03:00:00       1        0           0        1  9.84  14.395   \n",
       "4  2011-01-01 04:00:00       1        0           0        1  9.84  14.395   \n",
       "\n",
       "   humidity  windspeed  casual  registered  count  \n",
       "0        81        0.0       3          13     16  \n",
       "1        80        0.0       8          32     40  \n",
       "2        80        0.0       5          27     32  \n",
       "3        75        0.0       3          10     13  \n",
       "4        75        0.0       0           1      1  "
      ]
     },
     "execution_count": 2,
     "metadata": {},
     "output_type": "execute_result"
    }
   ],
   "source": [
    "# Load dataset\n",
    "data_test =  pd.read_csv('test.csv')\n",
    "data_train = pd.read_csv('train.csv')\n",
    "data_train.head()"
   ]
  },
  {
   "cell_type": "markdown",
   "id": "165b4633",
   "metadata": {},
   "source": [
    "<div class=\"alert alert-block alert-success\">\n",
    "    <h2 align=\"center\">Step2: EDA & Visualization</h2>\n",
    "</div> "
   ]
  },
  {
   "cell_type": "code",
   "execution_count": 3,
   "id": "617d8886",
   "metadata": {},
   "outputs": [
    {
     "name": "stdout",
     "output_type": "stream",
     "text": [
      "<class 'pandas.core.frame.DataFrame'>\n",
      "RangeIndex: 10886 entries, 0 to 10885\n",
      "Data columns (total 12 columns):\n",
      " #   Column      Non-Null Count  Dtype  \n",
      "---  ------      --------------  -----  \n",
      " 0   datetime    10886 non-null  object \n",
      " 1   season      10886 non-null  int64  \n",
      " 2   holiday     10886 non-null  int64  \n",
      " 3   workingday  10886 non-null  int64  \n",
      " 4   weather     10886 non-null  int64  \n",
      " 5   temp        10886 non-null  float64\n",
      " 6   atemp       10886 non-null  float64\n",
      " 7   humidity    10886 non-null  int64  \n",
      " 8   windspeed   10886 non-null  float64\n",
      " 9   casual      10886 non-null  int64  \n",
      " 10  registered  10886 non-null  int64  \n",
      " 11  count       10886 non-null  int64  \n",
      "dtypes: float64(3), int64(8), object(1)\n",
      "memory usage: 1020.7+ KB\n"
     ]
    }
   ],
   "source": [
    "data_train.info()"
   ]
  },
  {
   "cell_type": "code",
   "execution_count": 4,
   "id": "5a8e7038",
   "metadata": {},
   "outputs": [
    {
     "data": {
      "text/plain": [
       "datetime      0\n",
       "season        0\n",
       "holiday       0\n",
       "workingday    0\n",
       "weather       0\n",
       "temp          0\n",
       "atemp         0\n",
       "humidity      0\n",
       "windspeed     0\n",
       "casual        0\n",
       "registered    0\n",
       "count         0\n",
       "dtype: int64"
      ]
     },
     "execution_count": 4,
     "metadata": {},
     "output_type": "execute_result"
    }
   ],
   "source": [
    "data_train.isnull().sum()"
   ]
  },
  {
   "cell_type": "code",
   "execution_count": 5,
   "id": "f34cf4f7",
   "metadata": {},
   "outputs": [],
   "source": [
    "# As we understood, there is no null value in our data. Great Luck\n",
    "# No we must change the type of columns to suitable value to use less memory\n",
    "for i in data_train.columns:\n",
    "    if i== 'datetime': # Here I decided to split date form time in first column and create two new cloumns\n",
    "        data_train[f'{i}'] = data_train[f'{i}'].astype('datetime64')\n",
    "        data_train['date'] = [d.date() for d in data_train['datetime']]\n",
    "        data_train['time'] = [d.time() for d in data_train['datetime']]\n",
    "        # In this step, I change the order of columns:\n",
    "        data_train = data_train[['date','time', 'season', 'holiday', 'workingday', 'weather', 'temp',\n",
    "       'atemp', 'humidity', 'windspeed', 'casual', 'registered', 'count',]]\n",
    "    elif i in ['temp','atemp', 'windspeed']:\n",
    "        data_train[f'{i}'] = data_train[f'{i}'].astype('float16')\n",
    "    else:\n",
    "        data_train[f'{i}'] = data_train[f'{i}'].astype('int16')"
   ]
  },
  {
   "cell_type": "code",
   "execution_count": 6,
   "id": "3b1119d8",
   "metadata": {},
   "outputs": [
    {
     "name": "stdout",
     "output_type": "stream",
     "text": [
      "<class 'pandas.core.frame.DataFrame'>\n",
      "RangeIndex: 10886 entries, 0 to 10885\n",
      "Data columns (total 13 columns):\n",
      " #   Column      Non-Null Count  Dtype  \n",
      "---  ------      --------------  -----  \n",
      " 0   date        10886 non-null  object \n",
      " 1   time        10886 non-null  object \n",
      " 2   season      10886 non-null  int16  \n",
      " 3   holiday     10886 non-null  int16  \n",
      " 4   workingday  10886 non-null  int16  \n",
      " 5   weather     10886 non-null  int16  \n",
      " 6   temp        10886 non-null  float16\n",
      " 7   atemp       10886 non-null  float16\n",
      " 8   humidity    10886 non-null  int16  \n",
      " 9   windspeed   10886 non-null  float16\n",
      " 10  casual      10886 non-null  int16  \n",
      " 11  registered  10886 non-null  int16  \n",
      " 12  count       10886 non-null  int16  \n",
      "dtypes: float16(3), int16(8), object(2)\n",
      "memory usage: 404.1+ KB\n"
     ]
    }
   ],
   "source": [
    "data_train.info()"
   ]
  },
  {
   "cell_type": "code",
   "execution_count": 7,
   "id": "ceddc968",
   "metadata": {},
   "outputs": [],
   "source": [
    "# Weel down, we could optimize the useage of memory"
   ]
  },
  {
   "cell_type": "code",
   "execution_count": 8,
   "id": "3936a551",
   "metadata": {},
   "outputs": [
    {
     "data": {
      "text/html": [
       "<div>\n",
       "<style scoped>\n",
       "    .dataframe tbody tr th:only-of-type {\n",
       "        vertical-align: middle;\n",
       "    }\n",
       "\n",
       "    .dataframe tbody tr th {\n",
       "        vertical-align: top;\n",
       "    }\n",
       "\n",
       "    .dataframe thead th {\n",
       "        text-align: right;\n",
       "    }\n",
       "</style>\n",
       "<table border=\"1\" class=\"dataframe\">\n",
       "  <thead>\n",
       "    <tr style=\"text-align: right;\">\n",
       "      <th></th>\n",
       "      <th>date</th>\n",
       "      <th>time</th>\n",
       "      <th>season</th>\n",
       "      <th>holiday</th>\n",
       "      <th>workingday</th>\n",
       "      <th>weather</th>\n",
       "      <th>temp</th>\n",
       "      <th>atemp</th>\n",
       "      <th>humidity</th>\n",
       "      <th>windspeed</th>\n",
       "      <th>casual</th>\n",
       "      <th>registered</th>\n",
       "      <th>count</th>\n",
       "    </tr>\n",
       "  </thead>\n",
       "  <tbody>\n",
       "    <tr>\n",
       "      <th>0</th>\n",
       "      <td>2011-01-01</td>\n",
       "      <td>00:00:00</td>\n",
       "      <td>1</td>\n",
       "      <td>0</td>\n",
       "      <td>0</td>\n",
       "      <td>1</td>\n",
       "      <td>9.843750</td>\n",
       "      <td>14.398438</td>\n",
       "      <td>81</td>\n",
       "      <td>0.0</td>\n",
       "      <td>3</td>\n",
       "      <td>13</td>\n",
       "      <td>16</td>\n",
       "    </tr>\n",
       "    <tr>\n",
       "      <th>1</th>\n",
       "      <td>2011-01-01</td>\n",
       "      <td>01:00:00</td>\n",
       "      <td>1</td>\n",
       "      <td>0</td>\n",
       "      <td>0</td>\n",
       "      <td>1</td>\n",
       "      <td>9.023438</td>\n",
       "      <td>13.632812</td>\n",
       "      <td>80</td>\n",
       "      <td>0.0</td>\n",
       "      <td>8</td>\n",
       "      <td>32</td>\n",
       "      <td>40</td>\n",
       "    </tr>\n",
       "    <tr>\n",
       "      <th>2</th>\n",
       "      <td>2011-01-01</td>\n",
       "      <td>02:00:00</td>\n",
       "      <td>1</td>\n",
       "      <td>0</td>\n",
       "      <td>0</td>\n",
       "      <td>1</td>\n",
       "      <td>9.023438</td>\n",
       "      <td>13.632812</td>\n",
       "      <td>80</td>\n",
       "      <td>0.0</td>\n",
       "      <td>5</td>\n",
       "      <td>27</td>\n",
       "      <td>32</td>\n",
       "    </tr>\n",
       "  </tbody>\n",
       "</table>\n",
       "</div>"
      ],
      "text/plain": [
       "         date      time  season  holiday  workingday  weather      temp  \\\n",
       "0  2011-01-01  00:00:00       1        0           0        1  9.843750   \n",
       "1  2011-01-01  01:00:00       1        0           0        1  9.023438   \n",
       "2  2011-01-01  02:00:00       1        0           0        1  9.023438   \n",
       "\n",
       "       atemp  humidity  windspeed  casual  registered  count  \n",
       "0  14.398438        81        0.0       3          13     16  \n",
       "1  13.632812        80        0.0       8          32     40  \n",
       "2  13.632812        80        0.0       5          27     32  "
      ]
     },
     "execution_count": 8,
     "metadata": {},
     "output_type": "execute_result"
    }
   ],
   "source": [
    "data_train.head(3)"
   ]
  },
  {
   "cell_type": "code",
   "execution_count": 9,
   "id": "cce3b5ed",
   "metadata": {},
   "outputs": [
    {
     "data": {
      "text/html": [
       "<div>\n",
       "<style scoped>\n",
       "    .dataframe tbody tr th:only-of-type {\n",
       "        vertical-align: middle;\n",
       "    }\n",
       "\n",
       "    .dataframe tbody tr th {\n",
       "        vertical-align: top;\n",
       "    }\n",
       "\n",
       "    .dataframe thead th {\n",
       "        text-align: right;\n",
       "    }\n",
       "</style>\n",
       "<table border=\"1\" class=\"dataframe\">\n",
       "  <thead>\n",
       "    <tr style=\"text-align: right;\">\n",
       "      <th></th>\n",
       "      <th>season</th>\n",
       "      <th>holiday</th>\n",
       "      <th>workingday</th>\n",
       "      <th>weather</th>\n",
       "      <th>temp</th>\n",
       "      <th>atemp</th>\n",
       "      <th>humidity</th>\n",
       "      <th>windspeed</th>\n",
       "      <th>casual</th>\n",
       "      <th>registered</th>\n",
       "      <th>count</th>\n",
       "    </tr>\n",
       "  </thead>\n",
       "  <tbody>\n",
       "    <tr>\n",
       "      <th>count</th>\n",
       "      <td>10886.000000</td>\n",
       "      <td>10886.000000</td>\n",
       "      <td>10886.000000</td>\n",
       "      <td>10886.000000</td>\n",
       "      <td>1.088600e+04</td>\n",
       "      <td>1.088600e+04</td>\n",
       "      <td>10886.000000</td>\n",
       "      <td>1.088600e+04</td>\n",
       "      <td>10886.000000</td>\n",
       "      <td>10886.000000</td>\n",
       "      <td>10886.000000</td>\n",
       "    </tr>\n",
       "    <tr>\n",
       "      <th>mean</th>\n",
       "      <td>2.506614</td>\n",
       "      <td>0.028569</td>\n",
       "      <td>0.680875</td>\n",
       "      <td>1.418427</td>\n",
       "      <td>inf</td>\n",
       "      <td>inf</td>\n",
       "      <td>61.886460</td>\n",
       "      <td>inf</td>\n",
       "      <td>36.021955</td>\n",
       "      <td>155.552177</td>\n",
       "      <td>191.574132</td>\n",
       "    </tr>\n",
       "    <tr>\n",
       "      <th>std</th>\n",
       "      <td>1.116174</td>\n",
       "      <td>0.166599</td>\n",
       "      <td>0.466159</td>\n",
       "      <td>0.633839</td>\n",
       "      <td>7.789062e+00</td>\n",
       "      <td>8.476562e+00</td>\n",
       "      <td>19.245033</td>\n",
       "      <td>8.164062e+00</td>\n",
       "      <td>49.960477</td>\n",
       "      <td>151.039033</td>\n",
       "      <td>181.144454</td>\n",
       "    </tr>\n",
       "    <tr>\n",
       "      <th>min</th>\n",
       "      <td>1.000000</td>\n",
       "      <td>0.000000</td>\n",
       "      <td>0.000000</td>\n",
       "      <td>1.000000</td>\n",
       "      <td>8.198242e-01</td>\n",
       "      <td>7.597656e-01</td>\n",
       "      <td>0.000000</td>\n",
       "      <td>0.000000e+00</td>\n",
       "      <td>0.000000</td>\n",
       "      <td>0.000000</td>\n",
       "      <td>1.000000</td>\n",
       "    </tr>\n",
       "    <tr>\n",
       "      <th>25%</th>\n",
       "      <td>2.000000</td>\n",
       "      <td>0.000000</td>\n",
       "      <td>0.000000</td>\n",
       "      <td>1.000000</td>\n",
       "      <td>1.393750e+01</td>\n",
       "      <td>1.667188e+01</td>\n",
       "      <td>47.000000</td>\n",
       "      <td>7.000000e+00</td>\n",
       "      <td>4.000000</td>\n",
       "      <td>36.000000</td>\n",
       "      <td>42.000000</td>\n",
       "    </tr>\n",
       "    <tr>\n",
       "      <th>50%</th>\n",
       "      <td>3.000000</td>\n",
       "      <td>0.000000</td>\n",
       "      <td>1.000000</td>\n",
       "      <td>1.000000</td>\n",
       "      <td>2.050000e+01</td>\n",
       "      <td>2.423438e+01</td>\n",
       "      <td>62.000000</td>\n",
       "      <td>1.300000e+01</td>\n",
       "      <td>17.000000</td>\n",
       "      <td>118.000000</td>\n",
       "      <td>145.000000</td>\n",
       "    </tr>\n",
       "    <tr>\n",
       "      <th>75%</th>\n",
       "      <td>4.000000</td>\n",
       "      <td>0.000000</td>\n",
       "      <td>1.000000</td>\n",
       "      <td>2.000000</td>\n",
       "      <td>2.623438e+01</td>\n",
       "      <td>3.106250e+01</td>\n",
       "      <td>77.000000</td>\n",
       "      <td>1.700000e+01</td>\n",
       "      <td>49.000000</td>\n",
       "      <td>222.000000</td>\n",
       "      <td>284.000000</td>\n",
       "    </tr>\n",
       "    <tr>\n",
       "      <th>max</th>\n",
       "      <td>4.000000</td>\n",
       "      <td>1.000000</td>\n",
       "      <td>1.000000</td>\n",
       "      <td>4.000000</td>\n",
       "      <td>4.100000e+01</td>\n",
       "      <td>4.546875e+01</td>\n",
       "      <td>100.000000</td>\n",
       "      <td>5.700000e+01</td>\n",
       "      <td>367.000000</td>\n",
       "      <td>886.000000</td>\n",
       "      <td>977.000000</td>\n",
       "    </tr>\n",
       "  </tbody>\n",
       "</table>\n",
       "</div>"
      ],
      "text/plain": [
       "             season       holiday    workingday       weather          temp  \\\n",
       "count  10886.000000  10886.000000  10886.000000  10886.000000  1.088600e+04   \n",
       "mean       2.506614      0.028569      0.680875      1.418427           inf   \n",
       "std        1.116174      0.166599      0.466159      0.633839  7.789062e+00   \n",
       "min        1.000000      0.000000      0.000000      1.000000  8.198242e-01   \n",
       "25%        2.000000      0.000000      0.000000      1.000000  1.393750e+01   \n",
       "50%        3.000000      0.000000      1.000000      1.000000  2.050000e+01   \n",
       "75%        4.000000      0.000000      1.000000      2.000000  2.623438e+01   \n",
       "max        4.000000      1.000000      1.000000      4.000000  4.100000e+01   \n",
       "\n",
       "              atemp      humidity     windspeed        casual    registered  \\\n",
       "count  1.088600e+04  10886.000000  1.088600e+04  10886.000000  10886.000000   \n",
       "mean            inf     61.886460           inf     36.021955    155.552177   \n",
       "std    8.476562e+00     19.245033  8.164062e+00     49.960477    151.039033   \n",
       "min    7.597656e-01      0.000000  0.000000e+00      0.000000      0.000000   \n",
       "25%    1.667188e+01     47.000000  7.000000e+00      4.000000     36.000000   \n",
       "50%    2.423438e+01     62.000000  1.300000e+01     17.000000    118.000000   \n",
       "75%    3.106250e+01     77.000000  1.700000e+01     49.000000    222.000000   \n",
       "max    4.546875e+01    100.000000  5.700000e+01    367.000000    886.000000   \n",
       "\n",
       "              count  \n",
       "count  10886.000000  \n",
       "mean     191.574132  \n",
       "std      181.144454  \n",
       "min        1.000000  \n",
       "25%       42.000000  \n",
       "50%      145.000000  \n",
       "75%      284.000000  \n",
       "max      977.000000  "
      ]
     },
     "execution_count": 9,
     "metadata": {},
     "output_type": "execute_result"
    }
   ],
   "source": [
    "# Summary Statistics\n",
    "data_train.describe()"
   ]
  },
  {
   "cell_type": "code",
   "execution_count": 10,
   "id": "88c3f22f",
   "metadata": {},
   "outputs": [
    {
     "name": "stdout",
     "output_type": "stream",
     "text": [
      "number of rentals in each season:  :  [312498, 588282, 640662, 544034]\n"
     ]
    }
   ],
   "source": [
    "# Here I want to compare the total number of rentals in each season\n",
    "number_of_rentals_in_each_season = []\n",
    "for i in (data_train.season.unique()):\n",
    "    number_of_rentals_in_each_season.append(data_train[data_train.season==i]['count'].sum())\n",
    "print('number of rentals in each season:  : ',number_of_rentals_in_each_season)"
   ]
  },
  {
   "cell_type": "code",
   "execution_count": 11,
   "id": "f0593aa1",
   "metadata": {},
   "outputs": [
    {
     "name": "stdout",
     "output_type": "stream",
     "text": [
      "We understand that the number of total rentals in fall season is more than other seasons\n"
     ]
    },
    {
     "data": {
      "image/png": "[encoded data removed]",
      "text/plain": [
       "<Figure size 432x288 with 1 Axes>"
      ]
     },
     "metadata": {
      "needs_background": "light"
     },
     "output_type": "display_data"
    }
   ],
   "source": [
    "sns.barplot(x=['spring','summer','fall','winter'], y=number_of_rentals_in_each_season)\n",
    "print('We understand that the number of total rentals in fall season is more than other seasons')"
   ]
  },
  {
   "cell_type": "code",
   "execution_count": 12,
   "id": "83126da7",
   "metadata": {},
   "outputs": [
    {
     "name": "stdout",
     "output_type": "stream",
     "text": [
      "number of rentals:  :  [2027668, 57808]\n"
     ]
    }
   ],
   "source": [
    "# Here I want to compare the total number of rentals based on holidays\n",
    "number_of_rentals= []\n",
    "for i in (data_train.holiday.unique()):\n",
    "    number_of_rentals.append(data_train[data_train.holiday==i]['count'].sum())\n",
    "print('number of rentals:  : ',number_of_rentals)"
   ]
  },
  {
   "cell_type": "code",
   "execution_count": 13,
   "id": "4630aae8",
   "metadata": {},
   "outputs": [
    {
     "name": "stdout",
     "output_type": "stream",
     "text": [
      "We understand that the number of total rentals in fall season is more than other seasons\n"
     ]
    },
    {
     "data": {
      "image/png": "[encoded data removed]",
      "text/plain": [
       "<Figure size 432x288 with 1 Axes>"
      ]
     },
     "metadata": {
      "needs_background": "light"
     },
     "output_type": "display_data"
    }
   ],
   "source": [
    "sns.barplot(x=['holiday=0','holiday=1'], y=number_of_rentals)\n",
    "print('We understand that the number of total rentals in fall season is more than other seasons')"
   ]
  },
  {
   "cell_type": "code",
   "execution_count": 14,
   "id": "de290b6e",
   "metadata": {},
   "outputs": [
    {
     "name": "stdout",
     "output_type": "stream",
     "text": [
      "number of rentals:  :  [654872, 1430604]\n"
     ]
    }
   ],
   "source": [
    "# Here I want to compare the total number of rentals based on holidays\n",
    "number_of_rental= []\n",
    "for i in (data_train.workingday.unique()):\n",
    "    number_of_rental.append(data_train[data_train.workingday==i]['count'].sum())\n",
    "print('number of rentals:  : ',number_of_rental)"
   ]
  },
  {
   "cell_type": "code",
   "execution_count": 15,
   "id": "a2512a83",
   "metadata": {},
   "outputs": [
    {
     "name": "stdout",
     "output_type": "stream",
     "text": [
      "We understand that the number of total rentals in fall season is more than other seasons\n"
     ]
    },
    {
     "data": {
      "image/png": "[encoded data removed]",
      "text/plain": [
       "<Figure size 432x288 with 1 Axes>"
      ]
     },
     "metadata": {
      "needs_background": "light"
     },
     "output_type": "display_data"
    }
   ],
   "source": [
    "sns.barplot(x=['workingday=0','workingday=1'], y=number_of_rental)\n",
    "print('We understand that the number of total rentals in fall season is more than other seasons')"
   ]
  },
  {
   "cell_type": "code",
   "execution_count": 24,
   "id": "9693b4e8",
   "metadata": {},
   "outputs": [
    {
     "data": {
      "text/plain": [
       "977"
      ]
     },
     "execution_count": 24,
     "metadata": {},
     "output_type": "execute_result"
    }
   ],
   "source": [
    "data_train['count'].max()\n"
   ]
  },
  {
   "cell_type": "code",
   "execution_count": 25,
   "id": "26f10cbe",
   "metadata": {},
   "outputs": [
    {
     "data": {
      "text/html": [
       "<div>\n",
       "<style scoped>\n",
       "    .dataframe tbody tr th:only-of-type {\n",
       "        vertical-align: middle;\n",
       "    }\n",
       "\n",
       "    .dataframe tbody tr th {\n",
       "        vertical-align: top;\n",
       "    }\n",
       "\n",
       "    .dataframe thead th {\n",
       "        text-align: right;\n",
       "    }\n",
       "</style>\n",
       "<table border=\"1\" class=\"dataframe\">\n",
       "  <thead>\n",
       "    <tr style=\"text-align: right;\">\n",
       "      <th></th>\n",
       "      <th>date</th>\n",
       "      <th>time</th>\n",
       "      <th>season</th>\n",
       "      <th>holiday</th>\n",
       "      <th>workingday</th>\n",
       "      <th>weather</th>\n",
       "      <th>temp</th>\n",
       "      <th>atemp</th>\n",
       "      <th>humidity</th>\n",
       "      <th>windspeed</th>\n",
       "      <th>casual</th>\n",
       "      <th>registered</th>\n",
       "      <th>count</th>\n",
       "    </tr>\n",
       "  </thead>\n",
       "  <tbody>\n",
       "    <tr>\n",
       "      <th>9345</th>\n",
       "      <td>2012-09-12</td>\n",
       "      <td>18:00:00</td>\n",
       "      <td>3</td>\n",
       "      <td>0</td>\n",
       "      <td>1</td>\n",
       "      <td>1</td>\n",
       "      <td>27.0625</td>\n",
       "      <td>31.0625</td>\n",
       "      <td>44</td>\n",
       "      <td>17.0</td>\n",
       "      <td>91</td>\n",
       "      <td>886</td>\n",
       "      <td>977</td>\n",
       "    </tr>\n",
       "  </tbody>\n",
       "</table>\n",
       "</div>"
      ],
      "text/plain": [
       "            date      time  season  holiday  workingday  weather     temp  \\\n",
       "9345  2012-09-12  18:00:00       3        0           1        1  27.0625   \n",
       "\n",
       "        atemp  humidity  windspeed  casual  registered  count  \n",
       "9345  31.0625        44       17.0      91         886    977  "
      ]
     },
     "execution_count": 25,
     "metadata": {},
     "output_type": "execute_result"
    }
   ],
   "source": [
    "data_train[data_train['count']  == data_train['count'].max()]"
   ]
  },
  {
   "cell_type": "code",
   "execution_count": null,
   "id": "d5e1f87f",
   "metadata": {},
   "outputs": [],
   "source": [
    "# Here I want to compare the total number of rentals based on holidays\n",
    "number_of_rental= []\n",
    "for i in (data_train.w.unique()):\n",
    "    number_of_rental.append(data_train[data_train.workingday==i]['count'].sum())\n",
    "print('number of rentals:  : ',number_of_rental)\n",
    "sns.barplot(x=['workingday=0','workingday=1'], y=number_of_rental)\n",
    "print('We understand that the number of total rentals in fall season is more than other seasons')"
   ]
  }
 ],
 "metadata": {
  "kernelspec": {
   "display_name": "Python 3 (ipykernel)",
   "language": "python",
   "name": "python3"
  },
  "language_info": {
   "codemirror_mode": {
    "name": "ipython",
    "version": 3
   },
   "file_extension": ".py",
   "mimetype": "text/x-python",
   "name": "python",
   "nbconvert_exporter": "python",
   "pygments_lexer": "ipython3",
   "version": "3.10.4"
  }
 },
 "nbformat": 4,
 "nbformat_minor": 5
}
